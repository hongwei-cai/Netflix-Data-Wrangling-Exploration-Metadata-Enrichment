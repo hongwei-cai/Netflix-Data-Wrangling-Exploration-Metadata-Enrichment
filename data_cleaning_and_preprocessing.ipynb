{
 "cells": [
  {
   "cell_type": "markdown",
   "id": "5ede54e9",
   "metadata": {},
   "source": [
    "# Netflix Data Cleaning and Preprocessing\n",
    "\n",
    "This notebook performs data cleaning and preprocessing on the Netflix titles dataset (`data/netflix_titles.csv`). The goal is to handle missing values, standardize formats, remove duplicates, and prepare the data for exploratory data analysis.\n",
    "\n",
    "**Steps Covered:**\n",
    "- Data Loading and Initial Inspection\n",
    "- Missing Value Handling\n",
    "- Date Conversion and Temporal Feature Extraction\n",
    "- Duration Standardization\n",
    "- Data Validation and Saving"
   ]
  },
  {
   "cell_type": "code",
   "execution_count": 11,
   "id": "c16355c0",
   "metadata": {},
   "outputs": [],
   "source": [
    "import pandas as pd\n",
    "import numpy as np"
   ]
  },
  {
   "cell_type": "markdown",
   "id": "6beb6cde",
   "metadata": {},
   "source": [
    "## 1. Data Loading and Initial Inspection\n",
    "\n",
    "Load the dataset and perform initial checks for shape, data types, and missing values."
   ]
  },
  {
   "cell_type": "code",
   "execution_count": 12,
   "id": "eb79bd60",
   "metadata": {},
   "outputs": [
    {
     "name": "stdout",
     "output_type": "stream",
     "text": [
      "(8807, 12)\n"
     ]
    },
    {
     "data": {
      "text/html": [
       "<div>\n",
       "<style scoped>\n",
       "    .dataframe tbody tr th:only-of-type {\n",
       "        vertical-align: middle;\n",
       "    }\n",
       "\n",
       "    .dataframe tbody tr th {\n",
       "        vertical-align: top;\n",
       "    }\n",
       "\n",
       "    .dataframe thead th {\n",
       "        text-align: right;\n",
       "    }\n",
       "</style>\n",
       "<table border=\"1\" class=\"dataframe\">\n",
       "  <thead>\n",
       "    <tr style=\"text-align: right;\">\n",
       "      <th></th>\n",
       "      <th>show_id</th>\n",
       "      <th>type</th>\n",
       "      <th>title</th>\n",
       "      <th>director</th>\n",
       "      <th>cast</th>\n",
       "      <th>country</th>\n",
       "      <th>date_added</th>\n",
       "      <th>release_year</th>\n",
       "      <th>rating</th>\n",
       "      <th>duration</th>\n",
       "      <th>listed_in</th>\n",
       "      <th>description</th>\n",
       "    </tr>\n",
       "  </thead>\n",
       "  <tbody>\n",
       "    <tr>\n",
       "      <th>0</th>\n",
       "      <td>s1</td>\n",
       "      <td>Movie</td>\n",
       "      <td>Dick Johnson Is Dead</td>\n",
       "      <td>Kirsten Johnson</td>\n",
       "      <td>NaN</td>\n",
       "      <td>United States</td>\n",
       "      <td>September 25, 2021</td>\n",
       "      <td>2020</td>\n",
       "      <td>PG-13</td>\n",
       "      <td>90 min</td>\n",
       "      <td>Documentaries</td>\n",
       "      <td>As her father nears the end of his life, filmm...</td>\n",
       "    </tr>\n",
       "    <tr>\n",
       "      <th>1</th>\n",
       "      <td>s2</td>\n",
       "      <td>TV Show</td>\n",
       "      <td>Blood &amp; Water</td>\n",
       "      <td>NaN</td>\n",
       "      <td>Ama Qamata, Khosi Ngema, Gail Mabalane, Thaban...</td>\n",
       "      <td>South Africa</td>\n",
       "      <td>September 24, 2021</td>\n",
       "      <td>2021</td>\n",
       "      <td>TV-MA</td>\n",
       "      <td>2 Seasons</td>\n",
       "      <td>International TV Shows, TV Dramas, TV Mysteries</td>\n",
       "      <td>After crossing paths at a party, a Cape Town t...</td>\n",
       "    </tr>\n",
       "    <tr>\n",
       "      <th>2</th>\n",
       "      <td>s3</td>\n",
       "      <td>TV Show</td>\n",
       "      <td>Ganglands</td>\n",
       "      <td>Julien Leclercq</td>\n",
       "      <td>Sami Bouajila, Tracy Gotoas, Samuel Jouy, Nabi...</td>\n",
       "      <td>NaN</td>\n",
       "      <td>September 24, 2021</td>\n",
       "      <td>2021</td>\n",
       "      <td>TV-MA</td>\n",
       "      <td>1 Season</td>\n",
       "      <td>Crime TV Shows, International TV Shows, TV Act...</td>\n",
       "      <td>To protect his family from a powerful drug lor...</td>\n",
       "    </tr>\n",
       "    <tr>\n",
       "      <th>3</th>\n",
       "      <td>s4</td>\n",
       "      <td>TV Show</td>\n",
       "      <td>Jailbirds New Orleans</td>\n",
       "      <td>NaN</td>\n",
       "      <td>NaN</td>\n",
       "      <td>NaN</td>\n",
       "      <td>September 24, 2021</td>\n",
       "      <td>2021</td>\n",
       "      <td>TV-MA</td>\n",
       "      <td>1 Season</td>\n",
       "      <td>Docuseries, Reality TV</td>\n",
       "      <td>Feuds, flirtations and toilet talk go down amo...</td>\n",
       "    </tr>\n",
       "    <tr>\n",
       "      <th>4</th>\n",
       "      <td>s5</td>\n",
       "      <td>TV Show</td>\n",
       "      <td>Kota Factory</td>\n",
       "      <td>NaN</td>\n",
       "      <td>Mayur More, Jitendra Kumar, Ranjan Raj, Alam K...</td>\n",
       "      <td>India</td>\n",
       "      <td>September 24, 2021</td>\n",
       "      <td>2021</td>\n",
       "      <td>TV-MA</td>\n",
       "      <td>2 Seasons</td>\n",
       "      <td>International TV Shows, Romantic TV Shows, TV ...</td>\n",
       "      <td>In a city of coaching centers known to train I...</td>\n",
       "    </tr>\n",
       "  </tbody>\n",
       "</table>\n",
       "</div>"
      ],
      "text/plain": [
       "  show_id     type                  title         director  \\\n",
       "0      s1    Movie   Dick Johnson Is Dead  Kirsten Johnson   \n",
       "1      s2  TV Show          Blood & Water              NaN   \n",
       "2      s3  TV Show              Ganglands  Julien Leclercq   \n",
       "3      s4  TV Show  Jailbirds New Orleans              NaN   \n",
       "4      s5  TV Show           Kota Factory              NaN   \n",
       "\n",
       "                                                cast        country  \\\n",
       "0                                                NaN  United States   \n",
       "1  Ama Qamata, Khosi Ngema, Gail Mabalane, Thaban...   South Africa   \n",
       "2  Sami Bouajila, Tracy Gotoas, Samuel Jouy, Nabi...            NaN   \n",
       "3                                                NaN            NaN   \n",
       "4  Mayur More, Jitendra Kumar, Ranjan Raj, Alam K...          India   \n",
       "\n",
       "           date_added  release_year rating   duration  \\\n",
       "0  September 25, 2021          2020  PG-13     90 min   \n",
       "1  September 24, 2021          2021  TV-MA  2 Seasons   \n",
       "2  September 24, 2021          2021  TV-MA   1 Season   \n",
       "3  September 24, 2021          2021  TV-MA   1 Season   \n",
       "4  September 24, 2021          2021  TV-MA  2 Seasons   \n",
       "\n",
       "                                           listed_in  \\\n",
       "0                                      Documentaries   \n",
       "1    International TV Shows, TV Dramas, TV Mysteries   \n",
       "2  Crime TV Shows, International TV Shows, TV Act...   \n",
       "3                             Docuseries, Reality TV   \n",
       "4  International TV Shows, Romantic TV Shows, TV ...   \n",
       "\n",
       "                                         description  \n",
       "0  As her father nears the end of his life, filmm...  \n",
       "1  After crossing paths at a party, a Cape Town t...  \n",
       "2  To protect his family from a powerful drug lor...  \n",
       "3  Feuds, flirtations and toilet talk go down amo...  \n",
       "4  In a city of coaching centers known to train I...  "
      ]
     },
     "execution_count": 12,
     "metadata": {},
     "output_type": "execute_result"
    }
   ],
   "source": [
    "df = pd.read_csv('data/netflix_titles.csv')\n",
    "print(df.shape)\n",
    "df.head()"
   ]
  },
  {
   "cell_type": "code",
   "execution_count": 13,
   "id": "1374cd16",
   "metadata": {},
   "outputs": [
    {
     "name": "stdout",
     "output_type": "stream",
     "text": [
      "\n",
      "Missing values rates before inputation:\n",
      "director null rate: 29.91%, null counts: 2634\n",
      "cast null rate: 9.37%, null counts: 825\n",
      "country null rate: 9.44%, null counts: 831\n",
      "date_added null rate: 0.11%, null counts: 10\n",
      "rating null rate: 0.05%, null counts: 4\n",
      "duration null rate: 0.03%, null counts: 3\n"
     ]
    }
   ],
   "source": [
    "print(\"\\nMissing values rates before inputation:\")\n",
    "for column in df.columns:\n",
    "    null_counts = df[column].isnull().sum()\n",
    "    null_rate =  null_counts / len(df) * 100 \n",
    "    if null_rate > 0 :\n",
    "        print(f\"{column} null rate: {round(null_rate, 2)}%, null counts: {null_counts}\")"
   ]
  },
  {
   "cell_type": "markdown",
   "id": "0d8f73a9",
   "metadata": {},
   "source": [
    "## 2. Missing Value Handling\n",
    "\n",
    "Impute missing values using appropriate strategies (e.g., mode for categorical, median for numerical) and remove duplicates."
   ]
  },
  {
   "cell_type": "code",
   "execution_count": 14,
   "id": "a3b2c865",
   "metadata": {},
   "outputs": [
    {
     "name": "stdout",
     "output_type": "stream",
     "text": [
      "Missing values after imputation:\n",
      "show_id         0\n",
      "type            0\n",
      "title           0\n",
      "director        0\n",
      "cast            0\n",
      "country         0\n",
      "date_added      0\n",
      "release_year    0\n",
      "rating          0\n",
      "duration        0\n",
      "listed_in       0\n",
      "description     0\n",
      "dtype: int64\n"
     ]
    }
   ],
   "source": [
    "mode_country = df['country'].mode()\n",
    "if not mode_country.empty:\n",
    "    df['country'] = df['country'].fillna(mode_country[0])\n",
    "else:\n",
    "    df['country'] = df['country'].fillna('Unknown')\n",
    "\n",
    "# Impute date_added with 'January 1, ' + release_year\n",
    "df['date_added'] = df['date_added'].fillna('January 1, ' + df['release_year'].astype(str))\n",
    "\n",
    "df['cast'] = df['cast'].replace([np.nan, None, ''], 'No Data')\n",
    "df['director'] = df['director'].replace([np.nan, None, ''], 'No Data')\n",
    "df['rating'] = df['rating'].replace([np.nan, None, ''], 'No Data')\n",
    "\n",
    "df = df.dropna()\n",
    "df = df.drop_duplicates(subset=['title'], keep='first')\n",
    "\n",
    "# Verify no missing values remain\n",
    "print(\"Missing values after imputation:\")\n",
    "print(df.isnull().sum())"
   ]
  },
  {
   "cell_type": "code",
   "execution_count": 15,
   "id": "e3edae65",
   "metadata": {},
   "outputs": [
    {
     "name": "stdout",
     "output_type": "stream",
     "text": [
      "Number of rows with NaT in date_added: 0\n",
      "No NaT values found.\n",
      "---\n",
      "<class 'pandas.core.frame.DataFrame'>\n",
      "Index: 8804 entries, 0 to 8806\n",
      "Data columns (total 12 columns):\n",
      " #   Column        Non-Null Count  Dtype \n",
      "---  ------        --------------  ----- \n",
      " 0   show_id       8804 non-null   object\n",
      " 1   type          8804 non-null   object\n",
      " 2   title         8804 non-null   object\n",
      " 3   director      8804 non-null   object\n",
      " 4   cast          8804 non-null   object\n",
      " 5   country       8804 non-null   object\n",
      " 6   date_added    8804 non-null   object\n",
      " 7   release_year  8804 non-null   int64 \n",
      " 8   rating        8804 non-null   object\n",
      " 9   duration      8804 non-null   object\n",
      " 10  listed_in     8804 non-null   object\n",
      " 11  description   8804 non-null   object\n",
      "dtypes: int64(1), object(11)\n",
      "memory usage: 894.2+ KB\n",
      "None\n"
     ]
    }
   ],
   "source": [
    "# Check rows where date_added is NaT after conversion\n",
    "nat_rows = df[df['date_added'].isna()]\n",
    "print(\"Number of rows with NaT in date_added:\", len(nat_rows))\n",
    "if len(nat_rows) > 0:\n",
    "    print(\"Sample rows with NaT:\")\n",
    "    print(nat_rows[['title', 'date_added', 'release_year']].head(10))\n",
    "\n",
    "else:\n",
    "    print(\"No NaT values found.\")\n",
    "\n",
    "print('---')\n",
    "print(df.info())"
   ]
  },
  {
   "cell_type": "markdown",
   "id": "1d971c81",
   "metadata": {},
   "source": [
    "## 3. Date Conversion and Temporal Feature Extraction\n",
    "\n",
    "Convert `date_added` to datetime format and extract temporal components (month, year) for analysis."
   ]
  },
  {
   "cell_type": "code",
   "execution_count": 16,
   "id": "5413ec8b",
   "metadata": {},
   "outputs": [
    {
     "name": "stdout",
     "output_type": "stream",
     "text": [
      "Temporal columns added. Sample:\n",
      "  date_added  year_added  month_added month_name_added  day_added\n",
      "0 2021-09-25        2021            9        September         25\n",
      "1 2021-09-24        2021            9        September         24\n",
      "2 2021-09-24        2021            9        September         24\n",
      "3 2021-09-24        2021            9        September         24\n",
      "4 2021-09-24        2021            9        September         24\n",
      "Data types after conversion:\n",
      "show_id                     object\n",
      "type                        object\n",
      "title                       object\n",
      "director                    object\n",
      "cast                        object\n",
      "country                     object\n",
      "date_added          datetime64[ns]\n",
      "release_year                 int64\n",
      "rating                      object\n",
      "duration                    object\n",
      "listed_in                   object\n",
      "description                 object\n",
      "year_added                   int32\n",
      "month_added                  int32\n",
      "month_name_added            object\n",
      "day_added                    int32\n",
      "dtype: object\n"
     ]
    }
   ],
   "source": [
    "# Convert date_added to datetime using dateutil for better parsing\n",
    "from dateutil import parser\n",
    "\n",
    "def safe_parse(date_str):\n",
    "    if pd.isna(date_str):\n",
    "        return pd.NaT\n",
    "    try:\n",
    "        return parser.parse(date_str)\n",
    "    except:\n",
    "        return pd.NaT\n",
    "\n",
    "df['date_added'] = df['date_added'].apply(safe_parse)\n",
    "# Ensure it's datetime64\n",
    "df['date_added'] = pd.to_datetime(df['date_added'])\n",
    "\n",
    "# Extract temporal components from date_added for analysis\n",
    "df['year_added'] = df['date_added'].dt.year\n",
    "df['month_added'] = df['date_added'].dt.month\n",
    "df['month_name_added'] = df['date_added'].dt.month_name()\n",
    "df['day_added'] = df['date_added'].dt.day\n",
    "\n",
    "print(\"Temporal columns added. Sample:\")\n",
    "print(df[['date_added', 'year_added', 'month_added', 'month_name_added', 'day_added']].head())\n",
    "\n",
    "print(\"Data types after conversion:\")\n",
    "print(df.dtypes)"
   ]
  },
  {
   "cell_type": "code",
   "execution_count": 17,
   "id": "923010fb",
   "metadata": {},
   "outputs": [
    {
     "name": "stdout",
     "output_type": "stream",
     "text": [
      "show_id             0\n",
      "type                0\n",
      "title               0\n",
      "director            0\n",
      "cast                0\n",
      "country             0\n",
      "date_added          0\n",
      "release_year        0\n",
      "rating              0\n",
      "duration            0\n",
      "listed_in           0\n",
      "description         0\n",
      "year_added          0\n",
      "month_added         0\n",
      "month_name_added    0\n",
      "day_added           0\n",
      "dtype: int64\n"
     ]
    },
    {
     "data": {
      "text/html": [
       "<div>\n",
       "<style scoped>\n",
       "    .dataframe tbody tr th:only-of-type {\n",
       "        vertical-align: middle;\n",
       "    }\n",
       "\n",
       "    .dataframe tbody tr th {\n",
       "        vertical-align: top;\n",
       "    }\n",
       "\n",
       "    .dataframe thead th {\n",
       "        text-align: right;\n",
       "    }\n",
       "</style>\n",
       "<table border=\"1\" class=\"dataframe\">\n",
       "  <thead>\n",
       "    <tr style=\"text-align: right;\">\n",
       "      <th></th>\n",
       "      <th>title</th>\n",
       "      <th>release_year</th>\n",
       "      <th>date_added</th>\n",
       "      <th>year_added</th>\n",
       "      <th>month_added</th>\n",
       "      <th>month_name_added</th>\n",
       "      <th>day_added</th>\n",
       "    </tr>\n",
       "  </thead>\n",
       "  <tbody>\n",
       "  </tbody>\n",
       "</table>\n",
       "</div>"
      ],
      "text/plain": [
       "Empty DataFrame\n",
       "Columns: [title, release_year, date_added, year_added, month_added, month_name_added, day_added]\n",
       "Index: []"
      ]
     },
     "execution_count": 17,
     "metadata": {},
     "output_type": "execute_result"
    }
   ],
   "source": [
    "# Make sure no NaT in date_added after converted to datetime64\n",
    "print(df.isnull().sum())\n",
    "df[df['date_added'].isnull()][['title', 'release_year', 'date_added', 'year_added', 'month_added', 'month_name_added', 'day_added']].head()"
   ]
  },
  {
   "cell_type": "markdown",
   "id": "ade5b8f4",
   "metadata": {},
   "source": [
    "## 4. Duration Standardization\n",
    "\n",
    "Extract numeric values from `duration` for movies (minutes) and TV shows (seasons), handling them separately."
   ]
  },
  {
   "cell_type": "code",
   "execution_count": 18,
   "id": "88148738",
   "metadata": {},
   "outputs": [
    {
     "name": "stdout",
     "output_type": "stream",
     "text": [
      "Duration columns standardized. Sample:\n",
      "      type   duration  duration_minutes  duration_seasons\n",
      "0    Movie     90 min                90                 1\n",
      "1  TV Show  2 Seasons                98                 2\n",
      "2  TV Show   1 Season                98                 1\n",
      "3  TV Show   1 Season                98                 1\n",
      "4  TV Show  2 Seasons                98                 2\n",
      "5  TV Show   1 Season                98                 1\n",
      "6    Movie     91 min                91                 1\n",
      "7    Movie    125 min               125                 1\n",
      "8  TV Show  9 Seasons                98                 9\n",
      "9    Movie    104 min               104                 1\n"
     ]
    }
   ],
   "source": [
    "# Extract numeric duration separately for movies and TV shows\n",
    "# For movies: duration in minutes\n",
    "df['duration_minutes'] = df.apply(lambda x: int(x['duration'].split()[0]) if pd.notna(x['duration']) and 'min' in x['duration'] else np.nan, axis=1).astype('Int64')\n",
    "\n",
    "# For TV shows: duration in seasons\n",
    "df['duration_seasons'] = df.apply(lambda x: int(x['duration'].split()[0]) if pd.notna(x['duration']) and 'Season' in x['duration'] else np.nan, axis=1).astype('Int64')\n",
    "\n",
    "# Fill NaN with median for each\n",
    "median_minutes = df['duration_minutes'].median()\n",
    "df['duration_minutes'] = df['duration_minutes'].fillna(median_minutes)\n",
    "\n",
    "median_seasons = df['duration_seasons'].median()\n",
    "df['duration_seasons'] = df['duration_seasons'].fillna(median_seasons)\n",
    "\n",
    "print(\"Duration columns standardized. Sample:\")\n",
    "print(df[['type', 'duration', 'duration_minutes', 'duration_seasons']].head(10))"
   ]
  },
  {
   "cell_type": "markdown",
   "id": "c2e83fff",
   "metadata": {},
   "source": [
    "## 5. Data Validation and Saving\n",
    "\n",
    "Validate the cleaned dataset and save it for use in subsequent notebooks."
   ]
  },
  {
   "cell_type": "code",
   "execution_count": 19,
   "id": "c8a2d7b1",
   "metadata": {},
   "outputs": [
    {
     "name": "stdout",
     "output_type": "stream",
     "text": [
      "Final dataset shape: (8804, 18)\n",
      "\n",
      "Final data types:\n",
      "show_id                     object\n",
      "type                        object\n",
      "title                       object\n",
      "director                    object\n",
      "cast                        object\n",
      "country                     object\n",
      "date_added          datetime64[ns]\n",
      "release_year                 int64\n",
      "rating                      object\n",
      "duration                    object\n",
      "listed_in                   object\n",
      "description                 object\n",
      "year_added                   int32\n",
      "month_added                  int32\n",
      "month_name_added            object\n",
      "day_added                    int32\n",
      "duration_minutes             Int64\n",
      "duration_seasons             Int64\n",
      "dtype: object\n",
      "\n",
      "Final missing values:\n",
      "show_id             0\n",
      "type                0\n",
      "title               0\n",
      "director            0\n",
      "cast                0\n",
      "country             0\n",
      "date_added          0\n",
      "release_year        0\n",
      "rating              0\n",
      "duration            0\n",
      "listed_in           0\n",
      "description         0\n",
      "year_added          0\n",
      "month_added         0\n",
      "month_name_added    0\n",
      "day_added           0\n",
      "duration_minutes    0\n",
      "duration_seasons    0\n",
      "dtype: int64\n",
      "\n",
      "Sample of cleaned data:\n",
      "  show_id     type                  title         director  \\\n",
      "0      s1    Movie   Dick Johnson Is Dead  Kirsten Johnson   \n",
      "1      s2  TV Show          Blood & Water          No Data   \n",
      "2      s3  TV Show              Ganglands  Julien Leclercq   \n",
      "3      s4  TV Show  Jailbirds New Orleans          No Data   \n",
      "4      s5  TV Show           Kota Factory          No Data   \n",
      "\n",
      "                                                cast        country  \\\n",
      "0                                            No Data  United States   \n",
      "1  Ama Qamata, Khosi Ngema, Gail Mabalane, Thaban...   South Africa   \n",
      "2  Sami Bouajila, Tracy Gotoas, Samuel Jouy, Nabi...  United States   \n",
      "3                                            No Data  United States   \n",
      "4  Mayur More, Jitendra Kumar, Ranjan Raj, Alam K...          India   \n",
      "\n",
      "  date_added  release_year rating   duration  \\\n",
      "0 2021-09-25          2020  PG-13     90 min   \n",
      "1 2021-09-24          2021  TV-MA  2 Seasons   \n",
      "2 2021-09-24          2021  TV-MA   1 Season   \n",
      "3 2021-09-24          2021  TV-MA   1 Season   \n",
      "4 2021-09-24          2021  TV-MA  2 Seasons   \n",
      "\n",
      "                                           listed_in  \\\n",
      "0                                      Documentaries   \n",
      "1    International TV Shows, TV Dramas, TV Mysteries   \n",
      "2  Crime TV Shows, International TV Shows, TV Act...   \n",
      "3                             Docuseries, Reality TV   \n",
      "4  International TV Shows, Romantic TV Shows, TV ...   \n",
      "\n",
      "                                         description  year_added  month_added  \\\n",
      "0  As her father nears the end of his life, filmm...        2021            9   \n",
      "1  After crossing paths at a party, a Cape Town t...        2021            9   \n",
      "2  To protect his family from a powerful drug lor...        2021            9   \n",
      "3  Feuds, flirtations and toilet talk go down amo...        2021            9   \n",
      "4  In a city of coaching centers known to train I...        2021            9   \n",
      "\n",
      "  month_name_added  day_added  duration_minutes  duration_seasons  \n",
      "0        September         25                90                 1  \n",
      "1        September         24                98                 2  \n",
      "2        September         24                98                 1  \n",
      "3        September         24                98                 1  \n",
      "4        September         24                98                 2  \n"
     ]
    }
   ],
   "source": [
    "# Data Validation\n",
    "print(\"Final dataset shape:\", df.shape)\n",
    "print(\"\\nFinal data types:\")\n",
    "print(df.dtypes)\n",
    "print(\"\\nFinal missing values:\")\n",
    "print(df.isnull().sum())\n",
    "print(\"\\nSample of cleaned data:\")\n",
    "print(df.head())"
   ]
  },
  {
   "cell_type": "code",
   "execution_count": 20,
   "id": "b35138b4",
   "metadata": {},
   "outputs": [
    {
     "name": "stdout",
     "output_type": "stream",
     "text": [
      "Cleaned dataset saved as 'data/netflix_titles_cleaned.csv'\n"
     ]
    }
   ],
   "source": [
    "# Save cleaned dataset\n",
    "df.to_csv('data/netflix_titles_cleaned.csv', index=False)\n",
    "print(\"Cleaned dataset saved as 'data/netflix_titles_cleaned.csv'\")"
   ]
  },
  {
   "cell_type": "markdown",
   "id": "03e68c1e",
   "metadata": {},
   "source": [
    "## Summary\n",
    "\n",
    "The dataset has been cleaned and preprocessed:\n",
    "- Missing values imputed or filled.\n",
    "- Dates converted to datetime with temporal features extracted.\n",
    "- Duration standardized into separate numeric columns.\n",
    "- Duplicates removed.\n",
    "\n",
    "The cleaned data is saved as `data/netflix_titles_cleaned.csv` and ready for exploratory data analysis in the next notebook.\n",
    "\n",
    "**Next Steps:**\n",
    "- Proceed to `exploratory_data_analysis_and_visualization.ipynb` for insights and visualizations.\n",
    "- Use the new columns (e.g., `duration_minutes`, `month_added`) for advanced analysis."
   ]
  }
 ],
 "metadata": {
  "kernelspec": {
   "display_name": "zillow",
   "language": "python",
   "name": "python3"
  },
  "language_info": {
   "codemirror_mode": {
    "name": "ipython",
    "version": 3
   },
   "file_extension": ".py",
   "mimetype": "text/x-python",
   "name": "python",
   "nbconvert_exporter": "python",
   "pygments_lexer": "ipython3",
   "version": "3.13.5"
  }
 },
 "nbformat": 4,
 "nbformat_minor": 5
}
