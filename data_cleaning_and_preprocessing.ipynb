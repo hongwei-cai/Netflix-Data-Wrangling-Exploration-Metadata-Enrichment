{
 "cells": [
  {
   "cell_type": "code",
   "execution_count": 58,
   "id": "c16355c0",
   "metadata": {},
   "outputs": [],
   "source": [
    "import pandas as pd\n",
    "import numpy as np"
   ]
  },
  {
   "cell_type": "markdown",
   "id": "5ede54e9",
   "metadata": {},
   "source": [
    "# Netflix Data Cleaning and Preprocessing\n",
    "\n",
    "This notebook performs data cleaning and preprocessing on the Netflix titles dataset (`data/netflix_titles.csv`). The goal is to handle missing values, standardize formats, remove duplicates, and prepare the data for exploratory data analysis.\n",
    "\n",
    "**Steps Covered:**\n",
    "- Data Loading and Initial Inspection\n",
    "- Missing Value Handling\n",
    "- Date Conversion and Temporal Feature Extraction\n",
    "- Duration Standardization\n",
    "- Data Validation and Saving"
   ]
  },
  {
   "cell_type": "markdown",
   "id": "6beb6cde",
   "metadata": {},
   "source": [
    "## 1. Data Loading and Initial Inspection\n",
    "\n",
    "Load the dataset and perform initial checks for shape, data types, and missing values."
   ]
  },
  {
   "cell_type": "code",
   "execution_count": 59,
   "id": "eb79bd60",
   "metadata": {},
   "outputs": [
    {
     "name": "stdout",
     "output_type": "stream",
     "text": [
      "(8807, 11)\n"
     ]
    },
    {
     "data": {
      "text/html": [
       "<div>\n",
       "<style scoped>\n",
       "    .dataframe tbody tr th:only-of-type {\n",
       "        vertical-align: middle;\n",
       "    }\n",
       "\n",
       "    .dataframe tbody tr th {\n",
       "        vertical-align: top;\n",
       "    }\n",
       "\n",
       "    .dataframe thead th {\n",
       "        text-align: right;\n",
       "    }\n",
       "</style>\n",
       "<table border=\"1\" class=\"dataframe\">\n",
       "  <thead>\n",
       "    <tr style=\"text-align: right;\">\n",
       "      <th></th>\n",
       "      <th>type</th>\n",
       "      <th>title</th>\n",
       "      <th>director</th>\n",
       "      <th>cast</th>\n",
       "      <th>country</th>\n",
       "      <th>date_added</th>\n",
       "      <th>release_year</th>\n",
       "      <th>rating</th>\n",
       "      <th>duration</th>\n",
       "      <th>listed_in</th>\n",
       "      <th>description</th>\n",
       "    </tr>\n",
       "    <tr>\n",
       "      <th>show_id</th>\n",
       "      <th></th>\n",
       "      <th></th>\n",
       "      <th></th>\n",
       "      <th></th>\n",
       "      <th></th>\n",
       "      <th></th>\n",
       "      <th></th>\n",
       "      <th></th>\n",
       "      <th></th>\n",
       "      <th></th>\n",
       "      <th></th>\n",
       "    </tr>\n",
       "  </thead>\n",
       "  <tbody>\n",
       "    <tr>\n",
       "      <th>s1</th>\n",
       "      <td>Movie</td>\n",
       "      <td>Dick Johnson Is Dead</td>\n",
       "      <td>Kirsten Johnson</td>\n",
       "      <td>NaN</td>\n",
       "      <td>United States</td>\n",
       "      <td>September 25, 2021</td>\n",
       "      <td>2020</td>\n",
       "      <td>PG-13</td>\n",
       "      <td>90 min</td>\n",
       "      <td>Documentaries</td>\n",
       "      <td>As her father nears the end of his life, filmm...</td>\n",
       "    </tr>\n",
       "    <tr>\n",
       "      <th>s2</th>\n",
       "      <td>TV Show</td>\n",
       "      <td>Blood &amp; Water</td>\n",
       "      <td>NaN</td>\n",
       "      <td>Ama Qamata, Khosi Ngema, Gail Mabalane, Thaban...</td>\n",
       "      <td>South Africa</td>\n",
       "      <td>September 24, 2021</td>\n",
       "      <td>2021</td>\n",
       "      <td>TV-MA</td>\n",
       "      <td>2 Seasons</td>\n",
       "      <td>International TV Shows, TV Dramas, TV Mysteries</td>\n",
       "      <td>After crossing paths at a party, a Cape Town t...</td>\n",
       "    </tr>\n",
       "    <tr>\n",
       "      <th>s3</th>\n",
       "      <td>TV Show</td>\n",
       "      <td>Ganglands</td>\n",
       "      <td>Julien Leclercq</td>\n",
       "      <td>Sami Bouajila, Tracy Gotoas, Samuel Jouy, Nabi...</td>\n",
       "      <td>NaN</td>\n",
       "      <td>September 24, 2021</td>\n",
       "      <td>2021</td>\n",
       "      <td>TV-MA</td>\n",
       "      <td>1 Season</td>\n",
       "      <td>Crime TV Shows, International TV Shows, TV Act...</td>\n",
       "      <td>To protect his family from a powerful drug lor...</td>\n",
       "    </tr>\n",
       "    <tr>\n",
       "      <th>s4</th>\n",
       "      <td>TV Show</td>\n",
       "      <td>Jailbirds New Orleans</td>\n",
       "      <td>NaN</td>\n",
       "      <td>NaN</td>\n",
       "      <td>NaN</td>\n",
       "      <td>September 24, 2021</td>\n",
       "      <td>2021</td>\n",
       "      <td>TV-MA</td>\n",
       "      <td>1 Season</td>\n",
       "      <td>Docuseries, Reality TV</td>\n",
       "      <td>Feuds, flirtations and toilet talk go down amo...</td>\n",
       "    </tr>\n",
       "    <tr>\n",
       "      <th>s5</th>\n",
       "      <td>TV Show</td>\n",
       "      <td>Kota Factory</td>\n",
       "      <td>NaN</td>\n",
       "      <td>Mayur More, Jitendra Kumar, Ranjan Raj, Alam K...</td>\n",
       "      <td>India</td>\n",
       "      <td>September 24, 2021</td>\n",
       "      <td>2021</td>\n",
       "      <td>TV-MA</td>\n",
       "      <td>2 Seasons</td>\n",
       "      <td>International TV Shows, Romantic TV Shows, TV ...</td>\n",
       "      <td>In a city of coaching centers known to train I...</td>\n",
       "    </tr>\n",
       "  </tbody>\n",
       "</table>\n",
       "</div>"
      ],
      "text/plain": [
       "            type                  title         director  \\\n",
       "show_id                                                    \n",
       "s1         Movie   Dick Johnson Is Dead  Kirsten Johnson   \n",
       "s2       TV Show          Blood & Water              NaN   \n",
       "s3       TV Show              Ganglands  Julien Leclercq   \n",
       "s4       TV Show  Jailbirds New Orleans              NaN   \n",
       "s5       TV Show           Kota Factory              NaN   \n",
       "\n",
       "                                                      cast        country  \\\n",
       "show_id                                                                     \n",
       "s1                                                     NaN  United States   \n",
       "s2       Ama Qamata, Khosi Ngema, Gail Mabalane, Thaban...   South Africa   \n",
       "s3       Sami Bouajila, Tracy Gotoas, Samuel Jouy, Nabi...            NaN   \n",
       "s4                                                     NaN            NaN   \n",
       "s5       Mayur More, Jitendra Kumar, Ranjan Raj, Alam K...          India   \n",
       "\n",
       "                 date_added  release_year rating   duration  \\\n",
       "show_id                                                       \n",
       "s1       September 25, 2021          2020  PG-13     90 min   \n",
       "s2       September 24, 2021          2021  TV-MA  2 Seasons   \n",
       "s3       September 24, 2021          2021  TV-MA   1 Season   \n",
       "s4       September 24, 2021          2021  TV-MA   1 Season   \n",
       "s5       September 24, 2021          2021  TV-MA  2 Seasons   \n",
       "\n",
       "                                                 listed_in  \\\n",
       "show_id                                                      \n",
       "s1                                           Documentaries   \n",
       "s2         International TV Shows, TV Dramas, TV Mysteries   \n",
       "s3       Crime TV Shows, International TV Shows, TV Act...   \n",
       "s4                                  Docuseries, Reality TV   \n",
       "s5       International TV Shows, Romantic TV Shows, TV ...   \n",
       "\n",
       "                                               description  \n",
       "show_id                                                     \n",
       "s1       As her father nears the end of his life, filmm...  \n",
       "s2       After crossing paths at a party, a Cape Town t...  \n",
       "s3       To protect his family from a powerful drug lor...  \n",
       "s4       Feuds, flirtations and toilet talk go down amo...  \n",
       "s5       In a city of coaching centers known to train I...  "
      ]
     },
     "execution_count": 59,
     "metadata": {},
     "output_type": "execute_result"
    }
   ],
   "source": [
    "df = pd.read_csv('data/netflix_titles.csv', index_col='show_id')\n",
    "print(df.shape)\n",
    "df.head()"
   ]
  },
  {
   "cell_type": "code",
   "execution_count": 60,
   "id": "1374cd16",
   "metadata": {},
   "outputs": [
    {
     "name": "stdout",
     "output_type": "stream",
     "text": [
      "\n",
      "Missing values rates before inputation:\n",
      "director null rate: 29.91%, null counts: 2634\n",
      "cast null rate: 9.37%, null counts: 825\n",
      "country null rate: 9.44%, null counts: 831\n",
      "date_added null rate: 0.11%, null counts: 10\n",
      "rating null rate: 0.05%, null counts: 4\n",
      "duration null rate: 0.03%, null counts: 3\n"
     ]
    }
   ],
   "source": [
    "print(\"\\nMissing values rates before inputation:\")\n",
    "for column in df.columns:\n",
    "    null_counts = df[column].isnull().sum()\n",
    "    null_rate =  null_counts / len(df) * 100 \n",
    "    if null_rate > 0 :\n",
    "        print(f\"{column} null rate: {round(null_rate, 2)}%, null counts: {null_counts}\")"
   ]
  },
  {
   "cell_type": "markdown",
   "id": "0d8f73a9",
   "metadata": {},
   "source": [
    "## 2. Missing Value Handling\n",
    "\n",
    "Impute missing values using appropriate strategies (e.g., mode for categorical, median for numerical) and remove duplicates."
   ]
  },
  {
   "cell_type": "code",
   "execution_count": 61,
   "id": "a3b2c865",
   "metadata": {},
   "outputs": [
    {
     "name": "stdout",
     "output_type": "stream",
     "text": [
      "Missing values after imputation:\n",
      "type            0\n",
      "title           0\n",
      "director        0\n",
      "cast            0\n",
      "country         0\n",
      "date_added      0\n",
      "release_year    0\n",
      "rating          0\n",
      "duration        0\n",
      "listed_in       0\n",
      "description     0\n",
      "dtype: int64\n"
     ]
    }
   ],
   "source": [
    "mode_country = df['country'].mode()\n",
    "if not mode_country.empty:\n",
    "    df['country'] = df['country'].fillna(mode_country[0])\n",
    "else:\n",
    "    df['country'] = df['country'].fillna('Unknown')\n",
    "\n",
    "# Impute date_added with 'January 1, ' + release_year\n",
    "df['date_added'] = df['date_added'].fillna('January 1, ' + df['release_year'].astype(str))\n",
    "\n",
    "df['cast'] = df['cast'].replace([np.nan, None, ''], 'No Data')\n",
    "df['director'] = df['director'].replace([np.nan, None, ''], 'No Data')\n",
    "df['rating'] = df['rating'].replace([np.nan, None, ''], 'No Data')\n",
    "\n",
    "df = df.dropna()\n",
    "df = df.drop_duplicates(subset=['title'], keep='first')\n",
    "\n",
    "# Verify no missing values remain\n",
    "print(\"Missing values after imputation:\")\n",
    "print(df.isnull().sum())"
   ]
  },
  {
   "cell_type": "code",
   "execution_count": 62,
   "id": "e3edae65",
   "metadata": {},
   "outputs": [
    {
     "name": "stdout",
     "output_type": "stream",
     "text": [
      "Number of rows with NaT in date_added: 0\n",
      "No NaT values found.\n"
     ]
    }
   ],
   "source": [
    "# Check rows where date_added is NaT after conversion\n",
    "nat_rows = df[df['date_added'].isna()]\n",
    "print(\"Number of rows with NaT in date_added:\", len(nat_rows))\n",
    "if len(nat_rows) > 0:\n",
    "    print(\"Sample rows with NaT:\")\n",
    "    print(nat_rows[['title', 'date_added', 'release_year']].head(10))\n",
    "    # To handle separately, e.g., set to release_year as date\n",
    "    # df.loc[df['date_added'].isna(), 'date_added'] = pd.to_datetime(df['release_year'].astype(str) + '-01-01')\n",
    "else:\n",
    "    print(\"No NaT values found.\")"
   ]
  },
  {
   "cell_type": "code",
   "execution_count": 63,
   "id": "88979b72",
   "metadata": {},
   "outputs": [
    {
     "name": "stdout",
     "output_type": "stream",
     "text": [
      "<class 'pandas.core.frame.DataFrame'>\n",
      "Index: 8804 entries, s1 to s8807\n",
      "Data columns (total 11 columns):\n",
      " #   Column        Non-Null Count  Dtype \n",
      "---  ------        --------------  ----- \n",
      " 0   type          8804 non-null   object\n",
      " 1   title         8804 non-null   object\n",
      " 2   director      8804 non-null   object\n",
      " 3   cast          8804 non-null   object\n",
      " 4   country       8804 non-null   object\n",
      " 5   date_added    8804 non-null   object\n",
      " 6   release_year  8804 non-null   int64 \n",
      " 7   rating        8804 non-null   object\n",
      " 8   duration      8804 non-null   object\n",
      " 9   listed_in     8804 non-null   object\n",
      " 10  description   8804 non-null   object\n",
      "dtypes: int64(1), object(10)\n",
      "memory usage: 1.1+ MB\n"
     ]
    }
   ],
   "source": [
    "df.info()"
   ]
  },
  {
   "cell_type": "markdown",
   "id": "1d971c81",
   "metadata": {},
   "source": [
    "## 3. Date Conversion and Temporal Feature Extraction\n",
    "\n",
    "Convert `date_added` to datetime format and extract temporal components (month, year) for analysis."
   ]
  },
  {
   "cell_type": "code",
   "execution_count": 64,
   "id": "5413ec8b",
   "metadata": {},
   "outputs": [
    {
     "name": "stdout",
     "output_type": "stream",
     "text": [
      "Temporal columns added. Sample:\n",
      "        date_added  month_added month_name_added  year_added\n",
      "show_id                                                     \n",
      "s1      2021-09-25            9        September        2021\n",
      "s2      2021-09-24            9        September        2021\n",
      "s3      2021-09-24            9        September        2021\n",
      "s4      2021-09-24            9        September        2021\n",
      "s5      2021-09-24            9        September        2021\n",
      "Data types after conversion:\n",
      "type                        object\n",
      "title                       object\n",
      "director                    object\n",
      "cast                        object\n",
      "country                     object\n",
      "date_added          datetime64[ns]\n",
      "release_year                 int64\n",
      "rating                      object\n",
      "duration                    object\n",
      "listed_in                   object\n",
      "description                 object\n",
      "month_added                  int32\n",
      "month_name_added            object\n",
      "year_added                   int32\n",
      "dtype: object\n"
     ]
    }
   ],
   "source": [
    "# Convert date_added to datetime using dateutil for better parsing\n",
    "from dateutil import parser\n",
    "\n",
    "def safe_parse(date_str):\n",
    "    if pd.isna(date_str):\n",
    "        return pd.NaT\n",
    "    try:\n",
    "        return parser.parse(date_str)\n",
    "    except:\n",
    "        return pd.NaT\n",
    "\n",
    "df['date_added'] = df['date_added'].apply(safe_parse)\n",
    "df['date_added'] = pd.to_datetime(df['date_added'])  # Ensure it's datetime64\n",
    "\n",
    "# Extract temporal components from date_added for analysis\n",
    "df['month_added'] = df['date_added'].dt.month\n",
    "df['month_name_added'] = df['date_added'].dt.month_name()\n",
    "df['year_added'] = df['date_added'].dt.year\n",
    "\n",
    "print(\"Temporal columns added. Sample:\")\n",
    "print(df[['date_added', 'month_added', 'month_name_added', 'year_added']].head())\n",
    "\n",
    "print(\"Data types after conversion:\")\n",
    "print(df.dtypes)"
   ]
  },
  {
   "cell_type": "code",
   "execution_count": 65,
   "id": "923010fb",
   "metadata": {},
   "outputs": [
    {
     "name": "stdout",
     "output_type": "stream",
     "text": [
      "type                0\n",
      "title               0\n",
      "director            0\n",
      "cast                0\n",
      "country             0\n",
      "date_added          0\n",
      "release_year        0\n",
      "rating              0\n",
      "duration            0\n",
      "listed_in           0\n",
      "description         0\n",
      "month_added         0\n",
      "month_name_added    0\n",
      "year_added          0\n",
      "dtype: int64\n"
     ]
    },
    {
     "data": {
      "text/html": [
       "<div>\n",
       "<style scoped>\n",
       "    .dataframe tbody tr th:only-of-type {\n",
       "        vertical-align: middle;\n",
       "    }\n",
       "\n",
       "    .dataframe tbody tr th {\n",
       "        vertical-align: top;\n",
       "    }\n",
       "\n",
       "    .dataframe thead th {\n",
       "        text-align: right;\n",
       "    }\n",
       "</style>\n",
       "<table border=\"1\" class=\"dataframe\">\n",
       "  <thead>\n",
       "    <tr style=\"text-align: right;\">\n",
       "      <th></th>\n",
       "      <th>title</th>\n",
       "      <th>release_year</th>\n",
       "      <th>date_added</th>\n",
       "      <th>month_added</th>\n",
       "      <th>month_name_added</th>\n",
       "      <th>year_added</th>\n",
       "    </tr>\n",
       "    <tr>\n",
       "      <th>show_id</th>\n",
       "      <th></th>\n",
       "      <th></th>\n",
       "      <th></th>\n",
       "      <th></th>\n",
       "      <th></th>\n",
       "      <th></th>\n",
       "    </tr>\n",
       "  </thead>\n",
       "  <tbody>\n",
       "  </tbody>\n",
       "</table>\n",
       "</div>"
      ],
      "text/plain": [
       "Empty DataFrame\n",
       "Columns: [title, release_year, date_added, month_added, month_name_added, year_added]\n",
       "Index: []"
      ]
     },
     "execution_count": 65,
     "metadata": {},
     "output_type": "execute_result"
    }
   ],
   "source": [
    "# Make sure no NaT in date_added after converted to datetime64\n",
    "print(df.isnull().sum())\n",
    "df[df['date_added'].isnull()][['title', 'release_year', 'date_added', 'month_added', 'month_name_added', 'year_added']].head()"
   ]
  },
  {
   "cell_type": "markdown",
   "id": "ade5b8f4",
   "metadata": {},
   "source": [
    "## 4. Duration Standardization\n",
    "\n",
    "Extract numeric values from `duration` for movies (minutes) and TV shows (seasons), handling them separately."
   ]
  },
  {
   "cell_type": "code",
   "execution_count": 66,
   "id": "88148738",
   "metadata": {},
   "outputs": [
    {
     "name": "stdout",
     "output_type": "stream",
     "text": [
      "Duration columns standardized. Sample:\n",
      "            type   duration  duration_minutes  duration_seasons\n",
      "show_id                                                        \n",
      "s1         Movie     90 min                90                 1\n",
      "s2       TV Show  2 Seasons                98                 2\n",
      "s3       TV Show   1 Season                98                 1\n",
      "s4       TV Show   1 Season                98                 1\n",
      "s5       TV Show  2 Seasons                98                 2\n",
      "s6       TV Show   1 Season                98                 1\n",
      "s7         Movie     91 min                91                 1\n",
      "s8         Movie    125 min               125                 1\n",
      "s9       TV Show  9 Seasons                98                 9\n",
      "s10        Movie    104 min               104                 1\n"
     ]
    }
   ],
   "source": [
    "# Extract numeric duration separately for movies and TV shows\n",
    "# For movies: duration in minutes\n",
    "df['duration_minutes'] = df.apply(lambda x: int(x['duration'].split()[0]) if pd.notna(x['duration']) and 'min' in x['duration'] else np.nan, axis=1).astype('Int64')\n",
    "\n",
    "# For TV shows: duration in seasons\n",
    "df['duration_seasons'] = df.apply(lambda x: int(x['duration'].split()[0]) if pd.notna(x['duration']) and 'Season' in x['duration'] else np.nan, axis=1).astype('Int64')\n",
    "\n",
    "# Fill NaN with median for each\n",
    "median_minutes = df['duration_minutes'].median()\n",
    "df['duration_minutes'] = df['duration_minutes'].fillna(median_minutes)\n",
    "\n",
    "median_seasons = df['duration_seasons'].median()\n",
    "df['duration_seasons'] = df['duration_seasons'].fillna(median_seasons)\n",
    "\n",
    "print(\"Duration columns standardized. Sample:\")\n",
    "print(df[['type', 'duration', 'duration_minutes', 'duration_seasons']].head(10))"
   ]
  },
  {
   "cell_type": "markdown",
   "id": "c2e83fff",
   "metadata": {},
   "source": [
    "## 5. Data Validation and Saving\n",
    "\n",
    "Validate the cleaned dataset and save it for use in subsequent notebooks."
   ]
  },
  {
   "cell_type": "code",
   "execution_count": 67,
   "id": "b35138b4",
   "metadata": {},
   "outputs": [
    {
     "name": "stdout",
     "output_type": "stream",
     "text": [
      "Cleaned dataset saved as 'data/netflix_titles_cleaned.csv'\n"
     ]
    }
   ],
   "source": [
    "# Save cleaned dataset\n",
    "df.to_csv('data/netflix_titles_cleaned.csv', index=False)\n",
    "print(\"Cleaned dataset saved as 'data/netflix_titles_cleaned.csv'\")"
   ]
  },
  {
   "cell_type": "markdown",
   "id": "03e68c1e",
   "metadata": {},
   "source": [
    "## Summary\n",
    "\n",
    "The dataset has been cleaned and preprocessed:\n",
    "- Missing values imputed or filled.\n",
    "- Dates converted to datetime with temporal features extracted.\n",
    "- Duration standardized into separate numeric columns.\n",
    "- Duplicates removed.\n",
    "\n",
    "The cleaned data is saved as `data/netflix_titles_cleaned.csv` and ready for exploratory data analysis in the next notebook.\n",
    "\n",
    "**Next Steps:**\n",
    "- Proceed to `exploratory_data_analysis_and_visualization.ipynb` for insights and visualizations.\n",
    "- Use the new columns (e.g., `duration_minutes`, `month_added`) for advanced analysis."
   ]
  }
 ],
 "metadata": {
  "kernelspec": {
   "display_name": "zillow",
   "language": "python",
   "name": "python3"
  },
  "language_info": {
   "codemirror_mode": {
    "name": "ipython",
    "version": 3
   },
   "file_extension": ".py",
   "mimetype": "text/x-python",
   "name": "python",
   "nbconvert_exporter": "python",
   "pygments_lexer": "ipython3",
   "version": "3.13.5"
  }
 },
 "nbformat": 4,
 "nbformat_minor": 5
}
